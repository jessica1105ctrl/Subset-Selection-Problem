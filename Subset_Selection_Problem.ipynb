{
  "nbformat": 4,
  "nbformat_minor": 0,
  "metadata": {
    "colab": {
      "provenance": [],
      "authorship_tag": "ABX9TyNobUoztQAiKubfQNFWKsiL",
      "include_colab_link": true
    },
    "kernelspec": {
      "name": "python3",
      "display_name": "Python 3"
    },
    "language_info": {
      "name": "python"
    }
  },
  "cells": [
    {
      "cell_type": "markdown",
      "metadata": {
        "id": "view-in-github",
        "colab_type": "text"
      },
      "source": [
        "<a href=\"https://colab.research.google.com/github/jessica1105ctrl/Subset-Selection-Problem/blob/main/Subset_Selection_Problem.ipynb\" target=\"_parent\"><img src=\"https://colab.research.google.com/assets/colab-badge.svg\" alt=\"Open In Colab\"/></a>"
      ]
    },
    {
      "cell_type": "code",
      "execution_count": null,
      "metadata": {
        "id": "ndMn5ABHRYyb"
      },
      "outputs": [],
      "source": [
        "import random as r\n",
        "Set         = set([-12, -3, -6, 7, 2, -2, 6, 3, 9, -7, -5, -8, 1, 11, -9, -4])\n",
        "SetSize     = 5\n",
        "ResultList  = set()\n",
        "Iterations  = 1000\n",
        "for i in range(Iterations):\n",
        "    Chromosome = r.sample(Set,SetSize)\n",
        "    if sum(Chromosome) == 0:\n",
        "        ResultList.add(tuple(Chromosome))\n",
        "for r in ResultList:\n",
        "\tprint (r)\n",
        "print (\"\\nTotal Sets: \", len(ResultList))"
      ]
    },
    {
      "cell_type": "code",
      "source": [
        "import random as r\n",
        "data_set = set([-12, -3, -6, 7, 2, -2, 6, 3, 9, -7, -5, -8, 1, 11, -9, -4])\n",
        "SetLB = 3\n",
        "SetUB = 6\n",
        "ResultList = set()\n",
        "Iterations = 1000\n",
        "for _ in range(Iterations):\n",
        "    SetSize = r.randint(SetLB, SetUB)\n",
        "    Chromosome = r.sample(list(data_set), SetSize)\n",
        "    Chromosome.sort()\n",
        "    if sum(Chromosome) == 0:\n",
        "        ResultList.add(tuple(Chromosome))\n",
        "print(\"Valid subsets (sum = 0):\\n\")\n",
        "for r in sorted(ResultList):\n",
        "    print(r)\n",
        "\n",
        "print(f\"\\nTotal Valid Subsets Found: {len(ResultList)}\")"
      ],
      "metadata": {
        "id": "gnVPsnNYRncU"
      },
      "execution_count": null,
      "outputs": []
    }
  ]
}